{
 "cells": [
  {
   "cell_type": "code",
   "execution_count": 2,
   "id": "0be4560d-731c-4ba3-9446-a5bce6af1b9b",
   "metadata": {},
   "outputs": [
    {
     "name": "stdout",
     "output_type": "stream",
     "text": [
      "ERROR! Session/line number was not unique in database. History logging moved to new session 47\n",
      "/home/xiuminke/miniconda3/envs/ml12/lib/python3.11/site-packages/torch/cuda/__init__.py:63: FutureWarning: The pynvml package is deprecated. Please install nvidia-ml-py instead. If you did not install pynvml directly, please report this to the maintainers of the package that installed pynvml for you.\n",
      "  import pynvml  # type: ignore[import]\n",
      "[2025-10-08 15:34:33,066] [WARNING] [runner.py:232:fetch_hostfile] Unable to find hostfile, will proceed with training with local resources only.\n",
      "/home/xiuminke/miniconda3/envs/ml12/lib/python3.11/site-packages/torch/cuda/__init__.py:63: FutureWarning: The pynvml package is deprecated. Please install nvidia-ml-py instead. If you did not install pynvml directly, please report this to the maintainers of the package that installed pynvml for you.\n",
      "  import pynvml  # type: ignore[import]\n",
      "/home/xiuminke/miniconda3/envs/ml12/lib/python3.11/site-packages/torch/cuda/__init__.py:63: FutureWarning: The pynvml package is deprecated. Please install nvidia-ml-py instead. If you did not install pynvml directly, please report this to the maintainers of the package that installed pynvml for you.\n",
      "  import pynvml  # type: ignore[import]\n",
      "CUDA可用，将使用GPU进行训练\n",
      "GPU 0: NVIDIA GeForce RTX 4070 Ti SUPER, 显存: 15.99GB\n",
      "数据集大小: 10\n",
      "数据集样本示例: {'instruction': '我们要做一些三元组的推理，这是正例', 'input': '头实体是：上海柜 资生堂男士焕能紧致凝霜50ml 保湿抗老化面霜，关系是：关联场景', 'output': '正确的尾实体为：擦脸'}\n",
      "Map: 100%|██████████████████████████████| 10/10 [00:00<00:00, 247.78 examples/s]\n",
      "Tokenized后的数据格式: ['input_ids', 'attention_mask', 'labels']\n",
      "Input IDs示例: [105332, 112446, 44991, 23305, 40027, 9370, 113272, 3837, 100346, 36556]...\n",
      "Labels示例: [105332, 112446, 44991, 23305, 40027, 9370, 113272, 3837, 100346, 36556]...\n",
      "`torch_dtype` is deprecated! Use `dtype` instead!\n",
      "Loading checkpoint shards: 100%|██████████████████| 3/3 [00:16<00:00,  5.52s/it]\n",
      "Traceback (most recent call last):\n",
      "  File \"/mnt/d/forCoding_code/Tianchi_EcommerceKG/llm_kg_ft_v3/2.2-基于0-试图使用deepspeed【失败】.py\", line 129, in <module>\n",
      "    training_args = TrainingArguments(\n",
      "                    ^^^^^^^^^^^^^^^^^^\n",
      "  File \"<string>\", line 135, in __init__\n",
      "  File \"/home/xiuminke/miniconda3/envs/ml12/lib/python3.11/site-packages/transformers/training_args.py\", line 1811, in __post_init__\n",
      "    self.device\n",
      "  File \"/home/xiuminke/miniconda3/envs/ml12/lib/python3.11/site-packages/transformers/training_args.py\", line 2352, in device\n",
      "    return self._setup_devices\n",
      "           ^^^^^^^^^^^^^^^^^^^\n",
      "  File \"/home/xiuminke/miniconda3/envs/ml12/lib/python3.11/functools.py\", line 1001, in __get__\n",
      "    val = self.func(instance)\n",
      "          ^^^^^^^^^^^^^^^^^^^\n",
      "  File \"/home/xiuminke/miniconda3/envs/ml12/lib/python3.11/site-packages/transformers/training_args.py\", line 2279, in _setup_devices\n",
      "    self.distributed_state = PartialState(**accelerator_state_kwargs)\n",
      "                             ^^^^^^^^^^^^^^^^^^^^^^^^^^^^^^^^^^^^^^^^\n",
      "  File \"/home/xiuminke/miniconda3/envs/ml12/lib/python3.11/site-packages/accelerate/state.py\", line 236, in __init__\n",
      "    torch.distributed.init_process_group(backend=self.backend, **kwargs)\n",
      "  File \"/home/xiuminke/miniconda3/envs/ml12/lib/python3.11/site-packages/torch/distributed/c10d_logger.py\", line 81, in wrapper\n",
      "    return func(*args, **kwargs)\n",
      "           ^^^^^^^^^^^^^^^^^^^^^\n",
      "  File \"/home/xiuminke/miniconda3/envs/ml12/lib/python3.11/site-packages/torch/distributed/c10d_logger.py\", line 95, in wrapper\n",
      "    func_return = func(*args, **kwargs)\n",
      "                  ^^^^^^^^^^^^^^^^^^^^^\n",
      "  File \"/home/xiuminke/miniconda3/envs/ml12/lib/python3.11/site-packages/torch/distributed/distributed_c10d.py\", line 1757, in init_process_group\n",
      "    store, rank, world_size = next(rendezvous_iterator)\n",
      "                              ^^^^^^^^^^^^^^^^^^^^^^^^^\n",
      "  File \"/home/xiuminke/miniconda3/envs/ml12/lib/python3.11/site-packages/torch/distributed/rendezvous.py\", line 278, in _env_rendezvous_handler\n",
      "    store = _create_c10d_store(\n",
      "            ^^^^^^^^^^^^^^^^^^^\n",
      "  File \"/home/xiuminke/miniconda3/envs/ml12/lib/python3.11/site-packages/torch/distributed/rendezvous.py\", line 198, in _create_c10d_store\n",
      "    return TCPStore(\n",
      "           ^^^^^^^^^\n",
      "torch.distributed.DistNetworkError: The server socket has failed to listen on any local network address. port: 29500, useIpv6: false, code: -98, name: EADDRINUSE, message: address already in use\n",
      "[2025-10-08 15:35:01,969] [ERROR] [launch.py:341:sigkill_handler] ['/home/xiuminke/miniconda3/envs/ml12/bin/python3.11', '-u', '2.2-基于0-试图使用deepspeed【失败】.py', '--local_rank=0'] exits with return code = 1\n"
     ]
    }
   ],
   "source": [
    "!deepspeed --num_gpus=1 2.2-基于0-试图使用deepspeed【失败】.py"
   ]
  },
  {
   "cell_type": "code",
   "execution_count": null,
   "id": "a3636c5f-d741-4d84-942a-ba64d2cb6301",
   "metadata": {},
   "outputs": [],
   "source": []
  },
  {
   "cell_type": "code",
   "execution_count": null,
   "id": "7932fc96-18e1-4746-bc37-2fcf38b5747a",
   "metadata": {},
   "outputs": [],
   "source": []
  },
  {
   "cell_type": "code",
   "execution_count": null,
   "id": "c516ea71-8047-4a2c-8565-9a50f3478180",
   "metadata": {},
   "outputs": [],
   "source": []
  },
  {
   "cell_type": "code",
   "execution_count": null,
   "id": "0d647f0f-d383-41e8-92a2-51d183be446c",
   "metadata": {},
   "outputs": [],
   "source": []
  }
 ],
 "metadata": {
  "kernelspec": {
   "display_name": "Python 3 (ipykernel)",
   "language": "python",
   "name": "python3"
  },
  "language_info": {
   "codemirror_mode": {
    "name": "ipython",
    "version": 3
   },
   "file_extension": ".py",
   "mimetype": "text/x-python",
   "name": "python",
   "nbconvert_exporter": "python",
   "pygments_lexer": "ipython3",
   "version": "3.11.13"
  }
 },
 "nbformat": 4,
 "nbformat_minor": 5
}
