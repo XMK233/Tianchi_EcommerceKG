{
 "cells": [
  {
   "cell_type": "code",
   "execution_count": 1,
   "id": "6f83437b-302c-419f-896c-fa57d62fca36",
   "metadata": {},
   "outputs": [
    {
     "name": "stdout",
     "output_type": "stream",
     "text": [
      "使用设备: cuda\n",
      "正在加载数据集...\n",
      "训练数据大小: 1242550\n",
      "测试数据大小: 5000\n",
      "开发数据大小: 5000\n",
      "正在构建实体和关系映射...\n",
      "实体数量: 249746\n",
      "关系数量: 500\n",
      "正在创建图数据结构...\n",
      "正在创建GraphSAGE模型...\n",
      "开始训练模型...\n",
      "\n",
      "Epoch 1/6 训练中...\n",
      "  Batch 1214/1214 - Loss: 6.0508 - Progress: 100.0%\n",
      "Epoch 1/6 - Average Loss: 57.5603 - LR: 0.001000 - Time: 73.12s\n",
      "\n",
      "Epoch 2/6 训练中...\n",
      "  Batch 1214/1214 - Loss: 1.6572 - Progress: 100.0%\n",
      "Epoch 2/6 - Average Loss: 7.9789 - LR: 0.001000 - Time: 72.84s\n",
      "\n",
      "Epoch 3/6 训练中...\n",
      "  Batch 1214/1214 - Loss: 1.2207 - Progress: 100.0%\n",
      "Epoch 3/6 - Average Loss: 4.5948 - LR: 0.001000 - Time: 72.86s\n",
      "\n",
      "Epoch 4/6 训练中...\n",
      "  Batch 1214/1214 - Loss: 1.2480 - Progress: 100.0%\n",
      "Epoch 4/6 - Average Loss: 3.4796 - LR: 0.001000 - Time: 72.72s\n",
      "\n",
      "Epoch 5/6 训练中...\n",
      "  Batch 1214/1214 - Loss: 0.4578 - Progress: 100.0%\n",
      "Epoch 5/6 - Average Loss: 2.6771 - LR: 0.001000 - Time: 72.73s\n",
      "\n",
      "Epoch 6/6 训练中...\n",
      "  Batch 1214/1214 - Loss: 0.6113 - Progress: 100.0%\n",
      "Epoch 6/6 - Average Loss: 2.1990 - LR: 0.001000 - Time: 72.78s\n",
      "\n",
      "训练完成，开始在开发集上评估模型性能...\n",
      "\n",
      "开始在开发集上评估模型...\n",
      "将评估 5000 个三元组\n",
      "  评估进度: |██████████████████████████████████████████████████| 100.0% (5000/5000)\n",
      "\n",
      "开发集评估结果:\n",
      "HITS@1: 0.0278\n",
      "HITS@3: 0.0688\n",
      "HITS@10: 0.1594\n",
      "MRR: 0.0596\n",
      "\n",
      "开始预测尾实体...\n",
      "将处理 5000 个头实体/关系对\n",
      "  预测进度: |██████████████████████████████████████████████████| 100.0% (5000/5000)\n",
      "预测结果已保存到 /mnt/d/forCoding_data/Tianchi_EcommerceKG/preprocessedData/OpenBG500_test.tsv\n",
      "任务完成！\n"
     ]
    }
   ],
   "source": [
    "with open(\"graphsage_kg_predictor.py\", \"r\") as f:\n",
    "    lines = f.read()\n",
    "exec(lines)"
   ]
  },
  {
   "cell_type": "code",
   "execution_count": 1,
   "id": "10fce5b4-9ecd-4d64-9809-7df859ea659b",
   "metadata": {},
   "outputs": [
    {
     "name": "stdout",
     "output_type": "stream",
     "text": [
      "使用设备: cuda\n",
      "正在加载数据集...\n",
      "训练数据大小: 1242550\n",
      "测试数据大小: 5000\n",
      "开发数据大小: 5000\n",
      "正在构建实体和关系映射...\n",
      "实体数量: 249746\n",
      "关系数量: 500\n",
      "正在创建图数据结构...\n",
      "正在创建GraphSAGE模型...\n",
      "开始训练模型...\n",
      "\n",
      "Epoch 1/6 训练中...\n",
      "  Batch 4854/4854 - Loss: 0.8423 - Progress: 100.0%\n",
      "Epoch 1/6 - Average Loss: 6.3123 - LR: 0.001000 - Time: 294.48s\n",
      "\n",
      "Epoch 2/6 训练中...\n",
      "  Batch 4854/4854 - Loss: 0.2411 - Progress: 100.0%\n",
      "Epoch 2/6 - Average Loss: 1.1344 - LR: 0.001000 - Time: 290.31s\n",
      "\n",
      "Epoch 3/6 训练中...\n",
      "  Batch 4854/4854 - Loss: 0.5205 - Progress: 100.0%\n",
      "Epoch 3/6 - Average Loss: 0.7548 - LR: 0.001000 - Time: 289.24s\n",
      "\n",
      "Epoch 4/6 训练中...\n",
      "  Batch 4854/4854 - Loss: 0.0000 - Progress: 100.0%\n",
      "Epoch 4/6 - Average Loss: 0.5791 - LR: 0.001000 - Time: 291.24s\n",
      "\n",
      "Epoch 5/6 训练中...\n",
      "  Batch 4854/4854 - Loss: 0.0000 - Progress: 100.0%\n",
      "Epoch 5/6 - Average Loss: 0.4968 - LR: 0.001000 - Time: 292.58s\n",
      "\n",
      "Epoch 6/6 训练中...\n",
      "  Batch 4854/4854 - Loss: 0.2708 - Progress: 100.0%\n",
      "Epoch 6/6 - Average Loss: 0.4475 - LR: 0.001000 - Time: 290.94s\n",
      "\n",
      "训练完成，开始在开发集上评估模型性能...\n",
      "\n",
      "开始在开发集上评估模型...\n",
      "将评估 5000 个三元组\n",
      "  评估进度: |██████████████████████████████████████████████████| 100.0% (5000/5000)\n",
      "\n",
      "开发集评估结果:\n",
      "HITS@1: 0.0264\n",
      "HITS@3: 0.0762\n",
      "HITS@10: 0.1754\n",
      "MRR: 0.0637\n",
      "\n",
      "开始预测尾实体...\n",
      "将处理 5000 个头实体/关系对\n",
      "  预测进度: |██████████████████████████████████████████████████| 100.0% (5000/5000)\n",
      "预测结果已保存到 /mnt/d/forCoding_data/Tianchi_EcommerceKG/preprocessedData/OpenBG500_test.tsv\n",
      "任务完成！\n"
     ]
    }
   ],
   "source": [
    "with open(\"graphsage_kg_predictor.py\", \"r\") as f:\n",
    "    lines = f.read()\n",
    "    lines = lines.replace(\"BATCH_SIZE = 1024  # 训练批次大小\", \"BATCH_SIZE = 256  # 训练批次大小\")\n",
    "exec(lines)"
   ]
  },
  {
   "cell_type": "code",
   "execution_count": null,
   "id": "4bf728f2-9bf4-4bb8-a6c8-34fe7742c0b4",
   "metadata": {},
   "outputs": [],
   "source": []
  }
 ],
 "metadata": {
  "kernelspec": {
   "display_name": "Python 3 (ipykernel)",
   "language": "python",
   "name": "python3"
  },
  "language_info": {
   "codemirror_mode": {
    "name": "ipython",
    "version": 3
   },
   "file_extension": ".py",
   "mimetype": "text/x-python",
   "name": "python",
   "nbconvert_exporter": "python",
   "pygments_lexer": "ipython3",
   "version": "3.11.13"
  }
 },
 "nbformat": 4,
 "nbformat_minor": 5
}
