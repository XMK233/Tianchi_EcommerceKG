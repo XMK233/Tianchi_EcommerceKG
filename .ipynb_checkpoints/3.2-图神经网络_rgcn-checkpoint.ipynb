{
 "cells": [
  {
   "cell_type": "code",
   "execution_count": 2,
   "id": "20eac569-0728-4477-a39f-3c48cffb429c",
   "metadata": {},
   "outputs": [
    {
     "data": {
      "text/plain": [
       "\u001b[31mInit signature:\u001b[39m\n",
       "RGCNConv(\n",
       "    in_channels: Union[int, Tuple[int, int]],\n",
       "    out_channels: int,\n",
       "    num_relations: int,\n",
       "    num_bases: Optional[int] = \u001b[38;5;28;01mNone\u001b[39;00m,\n",
       "    num_blocks: Optional[int] = \u001b[38;5;28;01mNone\u001b[39;00m,\n",
       "    aggr: str = \u001b[33m'mean'\u001b[39m,\n",
       "    root_weight: bool = \u001b[38;5;28;01mTrue\u001b[39;00m,\n",
       "    is_sorted: bool = \u001b[38;5;28;01mFalse\u001b[39;00m,\n",
       "    bias: bool = \u001b[38;5;28;01mTrue\u001b[39;00m,\n",
       "    **kwargs,\n",
       ")\n",
       "\u001b[31mDocstring:\u001b[39m     \n",
       "The relational graph convolutional operator from the `\"Modeling\n",
       "Relational Data with Graph Convolutional Networks\"\n",
       "<https://arxiv.org/abs/1703.06103>`_ paper.\n",
       "\n",
       ".. math::\n",
       "    \\mathbf{x}^{\\prime}_i = \\mathbf{\\Theta}_{\\textrm{root}} \\cdot\n",
       "    \\mathbf{x}_i + \\sum_{r \\in \\mathcal{R}} \\sum_{j \\in \\mathcal{N}_r(i)}\n",
       "    \\frac{1}{|\\mathcal{N}_r(i)|} \\mathbf{\\Theta}_r \\cdot \\mathbf{x}_j,\n",
       "\n",
       "where :math:`\\mathcal{R}` denotes the set of relations, *i.e.* edge types.\n",
       "Edge type needs to be a one-dimensional :obj:`torch.long` tensor which\n",
       "stores a relation identifier\n",
       ":math:`\\in \\{ 0, \\ldots, |\\mathcal{R}| - 1\\}` for each edge.\n",
       "\n",
       ".. note::\n",
       "    This implementation is as memory-efficient as possible by iterating\n",
       "    over each individual relation type.\n",
       "    Therefore, it may result in low GPU utilization in case the graph has a\n",
       "    large number of relations.\n",
       "    As an alternative approach, :class:`FastRGCNConv` does not iterate over\n",
       "    each individual type, but may consume a large amount of memory to\n",
       "    compensate.\n",
       "    We advise to check out both implementations to see which one fits your\n",
       "    needs.\n",
       "\n",
       ".. note::\n",
       "    :class:`RGCNConv` can use `dynamic shapes\n",
       "    <https://docs.nvidia.com/deeplearning/tensorrt/developer-guide/index\n",
       "    .html#work_dynamic_shapes>`_, which means that the shape of the interim\n",
       "    tensors can be determined at runtime.\n",
       "    If your device doesn't support dynamic shapes, use\n",
       "    :class:`FastRGCNConv` instead.\n",
       "\n",
       "Args:\n",
       "    in_channels (int or tuple): Size of each input sample. A tuple\n",
       "        corresponds to the sizes of source and target dimensionalities.\n",
       "        In case no input features are given, this argument should\n",
       "        correspond to the number of nodes in your graph.\n",
       "    out_channels (int): Size of each output sample.\n",
       "    num_relations (int): Number of relations.\n",
       "    num_bases (int, optional): If set, this layer will use the\n",
       "        basis-decomposition regularization scheme where :obj:`num_bases`\n",
       "        denotes the number of bases to use. (default: :obj:`None`)\n",
       "    num_blocks (int, optional): If set, this layer will use the\n",
       "        block-diagonal-decomposition regularization scheme where\n",
       "        :obj:`num_blocks` denotes the number of blocks to use.\n",
       "        (default: :obj:`None`)\n",
       "    aggr (str, optional): The aggregation scheme to use\n",
       "        (:obj:`\"add\"`, :obj:`\"mean\"`, :obj:`\"max\"`).\n",
       "        (default: :obj:`\"mean\"`)\n",
       "    root_weight (bool, optional): If set to :obj:`False`, the layer will\n",
       "        not add transformed root node features to the output.\n",
       "        (default: :obj:`True`)\n",
       "    is_sorted (bool, optional): If set to :obj:`True`, assumes that\n",
       "        :obj:`edge_index` is sorted by :obj:`edge_type`. This avoids\n",
       "        internal re-sorting of the data and can improve runtime and memory\n",
       "        efficiency. (default: :obj:`False`)\n",
       "    bias (bool, optional): If set to :obj:`False`, the layer will not learn\n",
       "        an additive bias. (default: :obj:`True`)\n",
       "    **kwargs (optional): Additional arguments of\n",
       "        :class:`torch_geometric.nn.conv.MessagePassing`.\n",
       "\u001b[31mInit docstring:\u001b[39m Initialize internal Module state, shared by both nn.Module and ScriptModule.\n",
       "\u001b[31mFile:\u001b[39m           ~/miniconda3/envs/ml12/lib/python3.11/site-packages/torch_geometric/nn/conv/rgcn_conv.py\n",
       "\u001b[31mType:\u001b[39m           type\n",
       "\u001b[31mSubclasses:\u001b[39m     FastRGCNConv"
      ]
     },
     "metadata": {},
     "output_type": "display_data"
    }
   ],
   "source": [
    "RGCNConv?"
   ]
  },
  {
   "cell_type": "code",
   "execution_count": null,
   "id": "5a133de3-129c-40a6-8004-4a9334bd49bd",
   "metadata": {},
   "outputs": [],
   "source": []
  },
  {
   "cell_type": "code",
   "execution_count": 1,
   "id": "04f0c855-441d-482c-a5cd-2d8fa3be4a95",
   "metadata": {},
   "outputs": [
    {
     "ename": "IndentationError",
     "evalue": "unindent does not match any outer indentation level (<string>, line 567)",
     "output_type": "error",
     "traceback": [
      "Traceback \u001b[36m(most recent call last)\u001b[39m:\n",
      "  File \u001b[92m~/miniconda3/envs/ml12/lib/python3.11/site-packages/IPython/core/interactiveshell.py:3699\u001b[39m in \u001b[95mrun_code\u001b[39m\n    exec(code_obj, self.user_global_ns, self.user_ns)\n",
      "\u001b[36m  \u001b[39m\u001b[36mCell\u001b[39m\u001b[36m \u001b[39m\u001b[32mIn[1]\u001b[39m\u001b[32m, line 3\u001b[39m\n\u001b[31m    \u001b[39m\u001b[31mexec(lines)\u001b[39m\n",
      "  \u001b[36mFile \u001b[39m\u001b[32m<string>:567\u001b[39m\n\u001b[31m    \u001b[39m\u001b[31mprint()  # 确保进度条完成后换行\u001b[39m\n                         ^\n\u001b[31mIndentationError\u001b[39m\u001b[31m:\u001b[39m unindent does not match any outer indentation level\n"
     ]
    }
   ],
   "source": [
    "with open(\"rgcn_kg_predictor.py\", \"r\") as f:\n",
    "    lines = f.read()\n",
    "exec(lines)"
   ]
  },
  {
   "cell_type": "code",
   "execution_count": null,
   "id": "95b017a7-7094-41d1-b89d-678ab1466084",
   "metadata": {},
   "outputs": [],
   "source": []
  }
 ],
 "metadata": {
  "kernelspec": {
   "display_name": "Python 3 (ipykernel)",
   "language": "python",
   "name": "python3"
  },
  "language_info": {
   "codemirror_mode": {
    "name": "ipython",
    "version": 3
   },
   "file_extension": ".py",
   "mimetype": "text/x-python",
   "name": "python",
   "nbconvert_exporter": "python",
   "pygments_lexer": "ipython3",
   "version": "3.11.13"
  }
 },
 "nbformat": 4,
 "nbformat_minor": 5
}
